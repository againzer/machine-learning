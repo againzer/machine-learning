{
 "cells": [
  {
   "cell_type": "code",
   "execution_count": 215,
   "metadata": {},
   "outputs": [
    {
     "name": "stdout",
     "output_type": "stream",
     "text": [
      "Requirement already satisfied: sklearn in c:\\users\\again\\anaconda3\\envs\\pythonadv\\lib\\site-packages (0.0)\n",
      "Requirement already satisfied: scikit-learn in c:\\users\\again\\anaconda3\\envs\\pythonadv\\lib\\site-packages (from sklearn) (0.24.2)\n",
      "Requirement already satisfied: threadpoolctl>=2.0.0 in c:\\users\\again\\anaconda3\\envs\\pythonadv\\lib\\site-packages (from scikit-learn->sklearn) (2.2.0)\n",
      "Requirement already satisfied: scipy>=0.19.1 in c:\\users\\again\\anaconda3\\envs\\pythonadv\\lib\\site-packages (from scikit-learn->sklearn) (1.5.2)\n",
      "Requirement already satisfied: numpy>=1.13.3 in c:\\users\\again\\anaconda3\\envs\\pythonadv\\lib\\site-packages (from scikit-learn->sklearn) (1.19.2)\n",
      "Requirement already satisfied: joblib>=0.11 in c:\\users\\again\\anaconda3\\envs\\pythonadv\\lib\\site-packages (from scikit-learn->sklearn) (1.0.1)\n"
     ]
    }
   ],
   "source": [
    "# Update sklearn to prevent version mismatches\n",
    "!pip install sklearn --upgrade"
   ]
  },
  {
   "cell_type": "code",
   "execution_count": 216,
   "metadata": {},
   "outputs": [
    {
     "name": "stdout",
     "output_type": "stream",
     "text": [
      "Requirement already satisfied: joblib in c:\\users\\again\\anaconda3\\envs\\pythonadv\\lib\\site-packages (1.0.1)\n"
     ]
    }
   ],
   "source": [
    "# install joblib. This will be used to save your model. \n",
    "# Restart your kernel after installing \n",
    "!pip install joblib"
   ]
  },
  {
   "cell_type": "code",
   "execution_count": 217,
   "metadata": {},
   "outputs": [
    {
     "data": {
      "text/plain": [
       "'2.5.0'"
      ]
     },
     "execution_count": 217,
     "metadata": {},
     "output_type": "execute_result"
    }
   ],
   "source": [
    "import pandas as pd\n",
    "import numpy as np\n",
    "import tensorflow\n",
    "tensorflow.keras.__version__"
   ]
  },
  {
   "cell_type": "markdown",
   "metadata": {},
   "source": [
    "# Read the CSV and Perform Basic Data Cleaning"
   ]
  },
  {
   "cell_type": "code",
   "execution_count": 218,
   "metadata": {},
   "outputs": [
    {
     "data": {
      "text/html": [
       "<div>\n",
       "<style scoped>\n",
       "    .dataframe tbody tr th:only-of-type {\n",
       "        vertical-align: middle;\n",
       "    }\n",
       "\n",
       "    .dataframe tbody tr th {\n",
       "        vertical-align: top;\n",
       "    }\n",
       "\n",
       "    .dataframe thead th {\n",
       "        text-align: right;\n",
       "    }\n",
       "</style>\n",
       "<table border=\"1\" class=\"dataframe\">\n",
       "  <thead>\n",
       "    <tr style=\"text-align: right;\">\n",
       "      <th></th>\n",
       "      <th>rowid</th>\n",
       "      <th>kepid</th>\n",
       "      <th>kepoi_name</th>\n",
       "      <th>kepler_name</th>\n",
       "      <th>koi_disposition</th>\n",
       "      <th>koi_pdisposition</th>\n",
       "      <th>koi_score</th>\n",
       "      <th>koi_fpflag_nt</th>\n",
       "      <th>koi_fpflag_ss</th>\n",
       "      <th>koi_fpflag_co</th>\n",
       "      <th>...</th>\n",
       "      <th>koi_steff_err2</th>\n",
       "      <th>koi_slogg</th>\n",
       "      <th>koi_slogg_err1</th>\n",
       "      <th>koi_slogg_err2</th>\n",
       "      <th>koi_srad</th>\n",
       "      <th>koi_srad_err1</th>\n",
       "      <th>koi_srad_err2</th>\n",
       "      <th>ra</th>\n",
       "      <th>dec</th>\n",
       "      <th>koi_kepmag</th>\n",
       "    </tr>\n",
       "  </thead>\n",
       "  <tbody>\n",
       "    <tr>\n",
       "      <th>0</th>\n",
       "      <td>1</td>\n",
       "      <td>10797460</td>\n",
       "      <td>K00752.01</td>\n",
       "      <td>Kepler-227 b</td>\n",
       "      <td>CONFIRMED</td>\n",
       "      <td>CANDIDATE</td>\n",
       "      <td>1.000</td>\n",
       "      <td>0</td>\n",
       "      <td>0</td>\n",
       "      <td>0</td>\n",
       "      <td>...</td>\n",
       "      <td>-81.0</td>\n",
       "      <td>4.467</td>\n",
       "      <td>0.064</td>\n",
       "      <td>-0.096</td>\n",
       "      <td>0.927</td>\n",
       "      <td>0.105</td>\n",
       "      <td>-0.061</td>\n",
       "      <td>291.93423</td>\n",
       "      <td>48.141651</td>\n",
       "      <td>15.347</td>\n",
       "    </tr>\n",
       "    <tr>\n",
       "      <th>1</th>\n",
       "      <td>2</td>\n",
       "      <td>10797460</td>\n",
       "      <td>K00752.02</td>\n",
       "      <td>Kepler-227 c</td>\n",
       "      <td>CONFIRMED</td>\n",
       "      <td>CANDIDATE</td>\n",
       "      <td>0.969</td>\n",
       "      <td>0</td>\n",
       "      <td>0</td>\n",
       "      <td>0</td>\n",
       "      <td>...</td>\n",
       "      <td>-81.0</td>\n",
       "      <td>4.467</td>\n",
       "      <td>0.064</td>\n",
       "      <td>-0.096</td>\n",
       "      <td>0.927</td>\n",
       "      <td>0.105</td>\n",
       "      <td>-0.061</td>\n",
       "      <td>291.93423</td>\n",
       "      <td>48.141651</td>\n",
       "      <td>15.347</td>\n",
       "    </tr>\n",
       "    <tr>\n",
       "      <th>2</th>\n",
       "      <td>3</td>\n",
       "      <td>10811496</td>\n",
       "      <td>K00753.01</td>\n",
       "      <td>NaN</td>\n",
       "      <td>FALSE POSITIVE</td>\n",
       "      <td>FALSE POSITIVE</td>\n",
       "      <td>0.000</td>\n",
       "      <td>0</td>\n",
       "      <td>1</td>\n",
       "      <td>0</td>\n",
       "      <td>...</td>\n",
       "      <td>-176.0</td>\n",
       "      <td>4.544</td>\n",
       "      <td>0.044</td>\n",
       "      <td>-0.176</td>\n",
       "      <td>0.868</td>\n",
       "      <td>0.233</td>\n",
       "      <td>-0.078</td>\n",
       "      <td>297.00482</td>\n",
       "      <td>48.134129</td>\n",
       "      <td>15.436</td>\n",
       "    </tr>\n",
       "    <tr>\n",
       "      <th>3</th>\n",
       "      <td>4</td>\n",
       "      <td>10848459</td>\n",
       "      <td>K00754.01</td>\n",
       "      <td>NaN</td>\n",
       "      <td>FALSE POSITIVE</td>\n",
       "      <td>FALSE POSITIVE</td>\n",
       "      <td>0.000</td>\n",
       "      <td>0</td>\n",
       "      <td>1</td>\n",
       "      <td>0</td>\n",
       "      <td>...</td>\n",
       "      <td>-174.0</td>\n",
       "      <td>4.564</td>\n",
       "      <td>0.053</td>\n",
       "      <td>-0.168</td>\n",
       "      <td>0.791</td>\n",
       "      <td>0.201</td>\n",
       "      <td>-0.067</td>\n",
       "      <td>285.53461</td>\n",
       "      <td>48.285210</td>\n",
       "      <td>15.597</td>\n",
       "    </tr>\n",
       "    <tr>\n",
       "      <th>4</th>\n",
       "      <td>5</td>\n",
       "      <td>10854555</td>\n",
       "      <td>K00755.01</td>\n",
       "      <td>Kepler-664 b</td>\n",
       "      <td>CONFIRMED</td>\n",
       "      <td>CANDIDATE</td>\n",
       "      <td>1.000</td>\n",
       "      <td>0</td>\n",
       "      <td>0</td>\n",
       "      <td>0</td>\n",
       "      <td>...</td>\n",
       "      <td>-211.0</td>\n",
       "      <td>4.438</td>\n",
       "      <td>0.070</td>\n",
       "      <td>-0.210</td>\n",
       "      <td>1.046</td>\n",
       "      <td>0.334</td>\n",
       "      <td>-0.133</td>\n",
       "      <td>288.75488</td>\n",
       "      <td>48.226200</td>\n",
       "      <td>15.509</td>\n",
       "    </tr>\n",
       "  </tbody>\n",
       "</table>\n",
       "<p>5 rows × 50 columns</p>\n",
       "</div>"
      ],
      "text/plain": [
       "   rowid     kepid kepoi_name   kepler_name koi_disposition koi_pdisposition  \\\n",
       "0      1  10797460  K00752.01  Kepler-227 b       CONFIRMED        CANDIDATE   \n",
       "1      2  10797460  K00752.02  Kepler-227 c       CONFIRMED        CANDIDATE   \n",
       "2      3  10811496  K00753.01           NaN  FALSE POSITIVE   FALSE POSITIVE   \n",
       "3      4  10848459  K00754.01           NaN  FALSE POSITIVE   FALSE POSITIVE   \n",
       "4      5  10854555  K00755.01  Kepler-664 b       CONFIRMED        CANDIDATE   \n",
       "\n",
       "   koi_score  koi_fpflag_nt  koi_fpflag_ss  koi_fpflag_co  ...  \\\n",
       "0      1.000              0              0              0  ...   \n",
       "1      0.969              0              0              0  ...   \n",
       "2      0.000              0              1              0  ...   \n",
       "3      0.000              0              1              0  ...   \n",
       "4      1.000              0              0              0  ...   \n",
       "\n",
       "   koi_steff_err2  koi_slogg  koi_slogg_err1  koi_slogg_err2  koi_srad  \\\n",
       "0           -81.0      4.467           0.064          -0.096     0.927   \n",
       "1           -81.0      4.467           0.064          -0.096     0.927   \n",
       "2          -176.0      4.544           0.044          -0.176     0.868   \n",
       "3          -174.0      4.564           0.053          -0.168     0.791   \n",
       "4          -211.0      4.438           0.070          -0.210     1.046   \n",
       "\n",
       "   koi_srad_err1  koi_srad_err2         ra        dec  koi_kepmag  \n",
       "0          0.105         -0.061  291.93423  48.141651      15.347  \n",
       "1          0.105         -0.061  291.93423  48.141651      15.347  \n",
       "2          0.233         -0.078  297.00482  48.134129      15.436  \n",
       "3          0.201         -0.067  285.53461  48.285210      15.597  \n",
       "4          0.334         -0.133  288.75488  48.226200      15.509  \n",
       "\n",
       "[5 rows x 50 columns]"
      ]
     },
     "execution_count": 218,
     "metadata": {},
     "output_type": "execute_result"
    }
   ],
   "source": [
    "df = pd.read_csv(\"exoplanet_data.csv\")\n",
    "# Drop the null columns where all values are null\n",
    "#df = df.dropna(axis='columns', how='all')\n",
    "# Drop the null rows\n",
    "#df = df.dropna()\n",
    "df.head()"
   ]
  },
  {
   "cell_type": "markdown",
   "metadata": {},
   "source": [
    "# Select your features (columns)"
   ]
  },
  {
   "cell_type": "code",
   "execution_count": 237,
   "metadata": {},
   "outputs": [
    {
     "name": "stdout",
     "output_type": "stream",
     "text": [
      "(9564, 19) (9564,)\n"
     ]
    }
   ],
   "source": [
    "# Set features. This will also be used as your x values.\n",
    "selected_features = df[['koi_fpflag_nt','koi_fpflag_ss','koi_fpflag_co','koi_fpflag_ec','koi_period','koi_time0bk','koi_impact','koi_duration','koi_depth','koi_prad','koi_teq','koi_insol','koi_model_snr','koi_steff','koi_slogg','koi_srad','ra','dec','koi_kepmag'\n",
    "]]\n",
    "y = df['koi_disposition']\n",
    "\n",
    "print(selected_features.shape,y.shape)"
   ]
  },
  {
   "cell_type": "markdown",
   "metadata": {},
   "source": [
    "# Create a Train Test Split\n",
    "\n",
    "Use `koi_disposition` for the y values"
   ]
  },
  {
   "cell_type": "code",
   "execution_count": 238,
   "metadata": {},
   "outputs": [],
   "source": [
    "from sklearn.model_selection import train_test_split\n",
    "from sklearn.preprocessing import LabelEncoder, MinMaxScaler\n",
    "from tensorflow.keras.utils import to_categorical\n"
   ]
  },
  {
   "cell_type": "code",
   "execution_count": 239,
   "metadata": {},
   "outputs": [],
   "source": [
    "X_train, X_test, y_train, y_test = train_test_split(selected_features, y, random_state=1)"
   ]
  },
  {
   "cell_type": "code",
   "execution_count": 240,
   "metadata": {},
   "outputs": [
    {
     "data": {
      "text/plain": [
       "array(['CANDIDATE', 'CONFIRMED', 'FALSE POSITIVE'], dtype=object)"
      ]
     },
     "execution_count": 240,
     "metadata": {},
     "output_type": "execute_result"
    }
   ],
   "source": [
    "np.unique(y_train)"
   ]
  },
  {
   "cell_type": "code",
   "execution_count": 241,
   "metadata": {},
   "outputs": [
    {
     "data": {
      "text/plain": [
       "array(['CANDIDATE', 'CONFIRMED', 'FALSE POSITIVE'], dtype=object)"
      ]
     },
     "execution_count": 241,
     "metadata": {},
     "output_type": "execute_result"
    }
   ],
   "source": [
    "np.unique(y_test)"
   ]
  },
  {
   "cell_type": "code",
   "execution_count": 242,
   "metadata": {},
   "outputs": [],
   "source": [
    "# Step 1: Label-encode data set\n",
    "label_encoder = LabelEncoder()\n",
    "label_encoder.fit_transform(y)\n",
    "encoded_y_train = label_encoder.transform(y_train)\n",
    "encoded_y_test = label_encoder.transform(y_test)"
   ]
  },
  {
   "cell_type": "code",
   "execution_count": 243,
   "metadata": {},
   "outputs": [],
   "source": [
    "# Step 2: Convert encoded labels to one-hot-encoding\n",
    "y_train_categorical = to_categorical(encoded_y_train)\n",
    "y_test_categorical = to_categorical(encoded_y_test)"
   ]
  },
  {
   "cell_type": "code",
   "execution_count": 244,
   "metadata": {},
   "outputs": [
    {
     "data": {
      "text/html": [
       "<div>\n",
       "<style scoped>\n",
       "    .dataframe tbody tr th:only-of-type {\n",
       "        vertical-align: middle;\n",
       "    }\n",
       "\n",
       "    .dataframe tbody tr th {\n",
       "        vertical-align: top;\n",
       "    }\n",
       "\n",
       "    .dataframe thead th {\n",
       "        text-align: right;\n",
       "    }\n",
       "</style>\n",
       "<table border=\"1\" class=\"dataframe\">\n",
       "  <thead>\n",
       "    <tr style=\"text-align: right;\">\n",
       "      <th></th>\n",
       "      <th>koi_fpflag_nt</th>\n",
       "      <th>koi_fpflag_ss</th>\n",
       "      <th>koi_fpflag_co</th>\n",
       "      <th>koi_fpflag_ec</th>\n",
       "      <th>koi_period</th>\n",
       "      <th>koi_time0bk</th>\n",
       "      <th>koi_impact</th>\n",
       "      <th>koi_duration</th>\n",
       "      <th>koi_depth</th>\n",
       "      <th>koi_prad</th>\n",
       "      <th>koi_teq</th>\n",
       "      <th>koi_insol</th>\n",
       "      <th>koi_model_snr</th>\n",
       "      <th>koi_steff</th>\n",
       "      <th>koi_slogg</th>\n",
       "      <th>koi_srad</th>\n",
       "      <th>ra</th>\n",
       "      <th>dec</th>\n",
       "      <th>koi_kepmag</th>\n",
       "    </tr>\n",
       "  </thead>\n",
       "  <tbody>\n",
       "    <tr>\n",
       "      <th>9310</th>\n",
       "      <td>1</td>\n",
       "      <td>0</td>\n",
       "      <td>0</td>\n",
       "      <td>0</td>\n",
       "      <td>25.342870</td>\n",
       "      <td>132.684400</td>\n",
       "      <td>0.554</td>\n",
       "      <td>1.5100</td>\n",
       "      <td>230.5</td>\n",
       "      <td>1.85</td>\n",
       "      <td>706.0</td>\n",
       "      <td>58.81</td>\n",
       "      <td>7.5</td>\n",
       "      <td>6311.0</td>\n",
       "      <td>4.398</td>\n",
       "      <td>1.172</td>\n",
       "      <td>292.94180</td>\n",
       "      <td>46.193691</td>\n",
       "      <td>15.000</td>\n",
       "    </tr>\n",
       "    <tr>\n",
       "      <th>8119</th>\n",
       "      <td>0</td>\n",
       "      <td>1</td>\n",
       "      <td>0</td>\n",
       "      <td>0</td>\n",
       "      <td>40.069675</td>\n",
       "      <td>153.018227</td>\n",
       "      <td>0.767</td>\n",
       "      <td>9.3564</td>\n",
       "      <td>41865.0</td>\n",
       "      <td>27.38</td>\n",
       "      <td>588.0</td>\n",
       "      <td>28.20</td>\n",
       "      <td>1304.8</td>\n",
       "      <td>5911.0</td>\n",
       "      <td>4.321</td>\n",
       "      <td>1.207</td>\n",
       "      <td>296.46820</td>\n",
       "      <td>46.851780</td>\n",
       "      <td>14.458</td>\n",
       "    </tr>\n",
       "    <tr>\n",
       "      <th>2858</th>\n",
       "      <td>0</td>\n",
       "      <td>0</td>\n",
       "      <td>1</td>\n",
       "      <td>0</td>\n",
       "      <td>0.575884</td>\n",
       "      <td>132.007780</td>\n",
       "      <td>1.258</td>\n",
       "      <td>2.0734</td>\n",
       "      <td>272.2</td>\n",
       "      <td>31.17</td>\n",
       "      <td>2397.0</td>\n",
       "      <td>7790.32</td>\n",
       "      <td>43.2</td>\n",
       "      <td>6290.0</td>\n",
       "      <td>4.442</td>\n",
       "      <td>1.044</td>\n",
       "      <td>300.71927</td>\n",
       "      <td>45.096050</td>\n",
       "      <td>15.024</td>\n",
       "    </tr>\n",
       "    <tr>\n",
       "      <th>5585</th>\n",
       "      <td>0</td>\n",
       "      <td>1</td>\n",
       "      <td>0</td>\n",
       "      <td>0</td>\n",
       "      <td>91.056419</td>\n",
       "      <td>204.836321</td>\n",
       "      <td>1.112</td>\n",
       "      <td>6.7282</td>\n",
       "      <td>57608.0</td>\n",
       "      <td>53.10</td>\n",
       "      <td>431.0</td>\n",
       "      <td>8.13</td>\n",
       "      <td>701.1</td>\n",
       "      <td>6142.0</td>\n",
       "      <td>4.456</td>\n",
       "      <td>1.046</td>\n",
       "      <td>287.66364</td>\n",
       "      <td>49.141499</td>\n",
       "      <td>15.959</td>\n",
       "    </tr>\n",
       "    <tr>\n",
       "      <th>4344</th>\n",
       "      <td>0</td>\n",
       "      <td>0</td>\n",
       "      <td>0</td>\n",
       "      <td>0</td>\n",
       "      <td>4.843500</td>\n",
       "      <td>134.814880</td>\n",
       "      <td>0.906</td>\n",
       "      <td>3.0450</td>\n",
       "      <td>50.2</td>\n",
       "      <td>0.90</td>\n",
       "      <td>1121.0</td>\n",
       "      <td>373.10</td>\n",
       "      <td>10.4</td>\n",
       "      <td>5762.0</td>\n",
       "      <td>4.348</td>\n",
       "      <td>1.056</td>\n",
       "      <td>282.58282</td>\n",
       "      <td>42.346352</td>\n",
       "      <td>13.590</td>\n",
       "    </tr>\n",
       "  </tbody>\n",
       "</table>\n",
       "</div>"
      ],
      "text/plain": [
       "      koi_fpflag_nt  koi_fpflag_ss  koi_fpflag_co  koi_fpflag_ec  koi_period  \\\n",
       "9310              1              0              0              0   25.342870   \n",
       "8119              0              1              0              0   40.069675   \n",
       "2858              0              0              1              0    0.575884   \n",
       "5585              0              1              0              0   91.056419   \n",
       "4344              0              0              0              0    4.843500   \n",
       "\n",
       "      koi_time0bk  koi_impact  koi_duration  koi_depth  koi_prad  koi_teq  \\\n",
       "9310   132.684400       0.554        1.5100      230.5      1.85    706.0   \n",
       "8119   153.018227       0.767        9.3564    41865.0     27.38    588.0   \n",
       "2858   132.007780       1.258        2.0734      272.2     31.17   2397.0   \n",
       "5585   204.836321       1.112        6.7282    57608.0     53.10    431.0   \n",
       "4344   134.814880       0.906        3.0450       50.2      0.90   1121.0   \n",
       "\n",
       "      koi_insol  koi_model_snr  koi_steff  koi_slogg  koi_srad         ra  \\\n",
       "9310      58.81            7.5     6311.0      4.398     1.172  292.94180   \n",
       "8119      28.20         1304.8     5911.0      4.321     1.207  296.46820   \n",
       "2858    7790.32           43.2     6290.0      4.442     1.044  300.71927   \n",
       "5585       8.13          701.1     6142.0      4.456     1.046  287.66364   \n",
       "4344     373.10           10.4     5762.0      4.348     1.056  282.58282   \n",
       "\n",
       "            dec  koi_kepmag  \n",
       "9310  46.193691      15.000  \n",
       "8119  46.851780      14.458  \n",
       "2858  45.096050      15.024  \n",
       "5585  49.141499      15.959  \n",
       "4344  42.346352      13.590  "
      ]
     },
     "execution_count": 244,
     "metadata": {},
     "output_type": "execute_result"
    }
   ],
   "source": [
    "X_train.head()"
   ]
  },
  {
   "cell_type": "markdown",
   "metadata": {},
   "source": [
    "# Pre-processing\n",
    "\n",
    "Scale the data using the MinMaxScaler and perform some feature selection"
   ]
  },
  {
   "cell_type": "code",
   "execution_count": 245,
   "metadata": {},
   "outputs": [],
   "source": [
    "# Scale your data\n",
    "X_scaler = MinMaxScaler().fit(X_train)\n",
    "X_train_scaled = X_scaler.transform(X_train)\n",
    "X_test_scaled = X_scaler.transform(X_test)"
   ]
  },
  {
   "cell_type": "markdown",
   "metadata": {},
   "source": [
    "# Train the Model\n",
    "\n"
   ]
  },
  {
   "cell_type": "code",
   "execution_count": 246,
   "metadata": {},
   "outputs": [],
   "source": [
    "from tensorflow.keras.models import Sequential\n",
    "from tensorflow.keras.layers import Dense"
   ]
  },
  {
   "cell_type": "code",
   "execution_count": 255,
   "metadata": {},
   "outputs": [],
   "source": [
    "# Create model and add layers\n",
    "model = Sequential()\n",
    "model.add(Dense(units=100, activation='relu', input_dim=19))\n",
    "model.add(Dense(units=100, activation='relu'))\n",
    "model.add(Dense(units=3, activation='softmax'))"
   ]
  },
  {
   "cell_type": "code",
   "execution_count": 256,
   "metadata": {},
   "outputs": [],
   "source": [
    "# Compile and fit the model\n",
    "model.compile(optimizer='adam',\n",
    "              loss='categorical_crossentropy',\n",
    "              metrics=['accuracy'])"
   ]
  },
  {
   "cell_type": "code",
   "execution_count": 257,
   "metadata": {},
   "outputs": [
    {
     "name": "stdout",
     "output_type": "stream",
     "text": [
      "Model: \"sequential_28\"\n",
      "_________________________________________________________________\n",
      "Layer (type)                 Output Shape              Param #   \n",
      "=================================================================\n",
      "dense_63 (Dense)             (None, 100)               2000      \n",
      "_________________________________________________________________\n",
      "dense_64 (Dense)             (None, 100)               10100     \n",
      "_________________________________________________________________\n",
      "dense_65 (Dense)             (None, 3)                 303       \n",
      "=================================================================\n",
      "Total params: 12,403\n",
      "Trainable params: 12,403\n",
      "Non-trainable params: 0\n",
      "_________________________________________________________________\n"
     ]
    }
   ],
   "source": [
    "model.summary()"
   ]
  },
  {
   "cell_type": "code",
   "execution_count": 258,
   "metadata": {},
   "outputs": [
    {
     "name": "stdout",
     "output_type": "stream",
     "text": [
      "Epoch 1/60\n",
      "225/225 - 0s - loss: nan - accuracy: 0.2360\n",
      "Epoch 2/60\n",
      "225/225 - 0s - loss: nan - accuracy: 0.2360\n",
      "Epoch 3/60\n",
      "225/225 - 0s - loss: nan - accuracy: 0.2360\n",
      "Epoch 4/60\n",
      "225/225 - 0s - loss: nan - accuracy: 0.2360\n",
      "Epoch 5/60\n",
      "225/225 - 0s - loss: nan - accuracy: 0.2360\n",
      "Epoch 6/60\n",
      "225/225 - 0s - loss: nan - accuracy: 0.2360\n",
      "Epoch 7/60\n",
      "225/225 - 0s - loss: nan - accuracy: 0.2360\n",
      "Epoch 8/60\n",
      "225/225 - 0s - loss: nan - accuracy: 0.2360\n",
      "Epoch 9/60\n",
      "225/225 - 0s - loss: nan - accuracy: 0.2360\n",
      "Epoch 10/60\n",
      "225/225 - 0s - loss: nan - accuracy: 0.2360\n",
      "Epoch 11/60\n",
      "225/225 - 0s - loss: nan - accuracy: 0.2360\n",
      "Epoch 12/60\n",
      "225/225 - 0s - loss: nan - accuracy: 0.2360\n",
      "Epoch 13/60\n",
      "225/225 - 0s - loss: nan - accuracy: 0.2360\n",
      "Epoch 14/60\n",
      "225/225 - 0s - loss: nan - accuracy: 0.2360\n",
      "Epoch 15/60\n",
      "225/225 - 0s - loss: nan - accuracy: 0.2360\n",
      "Epoch 16/60\n",
      "225/225 - 0s - loss: nan - accuracy: 0.2360\n",
      "Epoch 17/60\n",
      "225/225 - 0s - loss: nan - accuracy: 0.2360\n",
      "Epoch 18/60\n",
      "225/225 - 0s - loss: nan - accuracy: 0.2360\n",
      "Epoch 19/60\n",
      "225/225 - 0s - loss: nan - accuracy: 0.2360\n",
      "Epoch 20/60\n",
      "225/225 - 0s - loss: nan - accuracy: 0.2360\n",
      "Epoch 21/60\n",
      "225/225 - 0s - loss: nan - accuracy: 0.2360\n",
      "Epoch 22/60\n",
      "225/225 - 0s - loss: nan - accuracy: 0.2360\n",
      "Epoch 23/60\n",
      "225/225 - 0s - loss: nan - accuracy: 0.2360\n",
      "Epoch 24/60\n",
      "225/225 - 0s - loss: nan - accuracy: 0.2360\n",
      "Epoch 25/60\n",
      "225/225 - 0s - loss: nan - accuracy: 0.2360\n",
      "Epoch 26/60\n",
      "225/225 - 0s - loss: nan - accuracy: 0.2360\n",
      "Epoch 27/60\n",
      "225/225 - 0s - loss: nan - accuracy: 0.2360\n",
      "Epoch 28/60\n",
      "225/225 - 0s - loss: nan - accuracy: 0.2360\n",
      "Epoch 29/60\n",
      "225/225 - 0s - loss: nan - accuracy: 0.2360\n",
      "Epoch 30/60\n",
      "225/225 - 0s - loss: nan - accuracy: 0.2360\n",
      "Epoch 31/60\n",
      "225/225 - 0s - loss: nan - accuracy: 0.2360\n",
      "Epoch 32/60\n",
      "225/225 - 0s - loss: nan - accuracy: 0.2360\n",
      "Epoch 33/60\n",
      "225/225 - 0s - loss: nan - accuracy: 0.2360\n",
      "Epoch 34/60\n",
      "225/225 - 0s - loss: nan - accuracy: 0.2360\n",
      "Epoch 35/60\n",
      "225/225 - 0s - loss: nan - accuracy: 0.2360\n",
      "Epoch 36/60\n",
      "225/225 - 0s - loss: nan - accuracy: 0.2360\n",
      "Epoch 37/60\n",
      "225/225 - 0s - loss: nan - accuracy: 0.2360\n",
      "Epoch 38/60\n",
      "225/225 - 0s - loss: nan - accuracy: 0.2360\n",
      "Epoch 39/60\n",
      "225/225 - 0s - loss: nan - accuracy: 0.2360\n",
      "Epoch 40/60\n",
      "225/225 - 0s - loss: nan - accuracy: 0.2360\n",
      "Epoch 41/60\n",
      "225/225 - 0s - loss: nan - accuracy: 0.2360\n",
      "Epoch 42/60\n",
      "225/225 - 0s - loss: nan - accuracy: 0.2360\n",
      "Epoch 43/60\n",
      "225/225 - 0s - loss: nan - accuracy: 0.2360\n",
      "Epoch 44/60\n",
      "225/225 - 0s - loss: nan - accuracy: 0.2360\n",
      "Epoch 45/60\n",
      "225/225 - 0s - loss: nan - accuracy: 0.2360\n",
      "Epoch 46/60\n",
      "225/225 - 0s - loss: nan - accuracy: 0.2360\n",
      "Epoch 47/60\n",
      "225/225 - 0s - loss: nan - accuracy: 0.2360\n",
      "Epoch 48/60\n",
      "225/225 - 0s - loss: nan - accuracy: 0.2360\n",
      "Epoch 49/60\n",
      "225/225 - 0s - loss: nan - accuracy: 0.2360\n",
      "Epoch 50/60\n",
      "225/225 - 0s - loss: nan - accuracy: 0.2360\n",
      "Epoch 51/60\n",
      "225/225 - 0s - loss: nan - accuracy: 0.2360\n",
      "Epoch 52/60\n",
      "225/225 - 0s - loss: nan - accuracy: 0.2360\n",
      "Epoch 53/60\n",
      "225/225 - 0s - loss: nan - accuracy: 0.2360\n",
      "Epoch 54/60\n",
      "225/225 - 0s - loss: nan - accuracy: 0.2360\n",
      "Epoch 55/60\n",
      "225/225 - 0s - loss: nan - accuracy: 0.2360\n",
      "Epoch 56/60\n",
      "225/225 - 0s - loss: nan - accuracy: 0.2360\n",
      "Epoch 57/60\n",
      "225/225 - 0s - loss: nan - accuracy: 0.2360\n",
      "Epoch 58/60\n",
      "225/225 - 0s - loss: nan - accuracy: 0.2360\n",
      "Epoch 59/60\n",
      "225/225 - 0s - loss: nan - accuracy: 0.2360\n",
      "Epoch 60/60\n",
      "225/225 - 0s - loss: nan - accuracy: 0.2360\n"
     ]
    },
    {
     "data": {
      "text/plain": [
       "<tensorflow.python.keras.callbacks.History at 0x1c4b8ee89b0>"
      ]
     },
     "execution_count": 258,
     "metadata": {},
     "output_type": "execute_result"
    }
   ],
   "source": [
    "model.fit(\n",
    "    X_train_scaled,\n",
    "    y_train_categorical,\n",
    "    epochs=60,\n",
    "    shuffle=True,\n",
    "    verbose=2\n",
    ")"
   ]
  },
  {
   "cell_type": "code",
   "execution_count": 259,
   "metadata": {},
   "outputs": [
    {
     "name": "stdout",
     "output_type": "stream",
     "text": [
      "75/75 - 0s - loss: nan - accuracy: 0.2321\n",
      "Normal Neural Network - Loss: nan, Accuracy: 0.23212045431137085\n"
     ]
    }
   ],
   "source": [
    "model_loss, model_accuracy = model.evaluate(\n",
    "    X_test_scaled, y_test_categorical, verbose=2)\n",
    "print(\n",
    "    f\"Normal Neural Network - Loss: {model_loss}, Accuracy: {model_accuracy}\")"
   ]
  },
  {
   "cell_type": "code",
   "execution_count": 260,
   "metadata": {},
   "outputs": [],
   "source": [
    "#Make predictions\n",
    "encoded_predictions = model.predict_classes(X_test_scaled>0.5)\n",
    "prediction_labels = label_encoder.inverse_transform(encoded_predictions)\n"
   ]
  },
  {
   "cell_type": "code",
   "execution_count": 253,
   "metadata": {},
   "outputs": [
    {
     "name": "stdout",
     "output_type": "stream",
     "text": [
      "Predicted classes: ['CANDIDATE' 'CANDIDATE' 'CANDIDATE' ... 'CANDIDATE' 'CANDIDATE'\n",
      " 'CANDIDATE']\n",
      "Actual Labels: ['FALSE POSITIVE', 'CANDIDATE', 'FALSE POSITIVE', 'FALSE POSITIVE', 'CONFIRMED']\n"
     ]
    }
   ],
   "source": [
    "print(f\"Predicted classes: {prediction_labels}\")\n",
    "print(f\"Actual Labels: {list(y_test[:5])}\")"
   ]
  },
  {
   "cell_type": "markdown",
   "metadata": {},
   "source": [
    "# Save the Model"
   ]
  },
  {
   "cell_type": "code",
   "execution_count": 254,
   "metadata": {},
   "outputs": [],
   "source": [
    "# save your model by updating \"your_name\" with your name\n",
    "# and \"your_model\" with your model variable\n",
    "# be sure to turn this in to BCS\n",
    "# if joblib fails to import, try running the command to install in terminal/git-bash\n",
    "import joblib\n",
    "model.save('model2.h5')"
   ]
  },
  {
   "cell_type": "code",
   "execution_count": null,
   "metadata": {},
   "outputs": [],
   "source": []
  }
 ],
 "metadata": {
  "kernel_info": {
   "name": "dev"
  },
  "kernelspec": {
   "display_name": "Python [conda env:PythonAdv]",
   "language": "python",
   "name": "conda-env-PythonAdv-py"
  },
  "language_info": {
   "codemirror_mode": {
    "name": "ipython",
    "version": 3
   },
   "file_extension": ".py",
   "mimetype": "text/x-python",
   "name": "python",
   "nbconvert_exporter": "python",
   "pygments_lexer": "ipython3",
   "version": "3.6.13"
  },
  "nteract": {
   "version": "0.12.3"
  }
 },
 "nbformat": 4,
 "nbformat_minor": 2
}
